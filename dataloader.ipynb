{
 "cells": [
  {
   "cell_type": "code",
   "execution_count": 121,
   "id": "60a03b14-7379-4b04-a574-3d690f6bbc56",
   "metadata": {},
   "outputs": [],
   "source": [
    "import torch\n",
    "from torch.utils.data import Dataset\n",
    "import matplotlib.pyplot as plt\n",
    "import glob\n",
    "from os.path import join as pjoin\n",
    "import cv2"
   ]
  },
  {
   "cell_type": "code",
   "execution_count": 123,
   "id": "9202df38-4a5e-48c9-8d3d-22d6cc313e97",
   "metadata": {},
   "outputs": [],
   "source": [
    "class QRCodeDataset(Dataset):\n",
    "    def __init__(self, annotations_dir, img_dir, predefined_class_file):\n",
    "        self.annotations_dir = annotations_dir\n",
    "        self.img_dir = img_dir\n",
    "        self.predefined_class_file = predefined_class_file\n",
    "        \n",
    "        self.defined_class = self.read_predefine_class()\n",
    "        \n",
    "        self.img_paths = [fname for fname in glob.glob(pjoin(img_dir,'*'))]\n",
    "        self.img_labels = self.read_yolo_labels()\n",
    "        \n",
    "        assert len(self.img_paths) == len(self.img_labels)\n",
    "        \n",
    "    def __len__(self):\n",
    "        return len(self.img_labels)\n",
    "    \n",
    "    def __getitem__(self, idx):\n",
    "        image = cv2.imread(self.img_paths[idx], cv2.COLOR_BGR2GRAY)\n",
    "        return self.img_labels[idx], image\n",
    "    \n",
    "    def read_yolo_labels(self):\n",
    "        # \"\"\" 根據 annotations_dir 內的資料 load labels資料 \"\"\"\n",
    "        \n",
    "        def read_txt(fpth):\n",
    "            # 讀取單個 yolo label file\n",
    "            res = []\n",
    "            \n",
    "            with open(fpth) as f:\n",
    "                lines = f.readlines()\n",
    "                lines = [ _.rstrip() for _ in lines] \n",
    "                \n",
    "                for bbox in lines:\n",
    "                    c, x, y, w, h = [float(_) for _ in bbox.split(' ')]\n",
    "                    res.append((c, x, y, w, h))\n",
    "            return res\n",
    "        # ====================================\n",
    "        image_labels = []\n",
    "        for lb_path in glob.glob(pjoin(self.annotations_dir, '*')):\n",
    "            image_labels += [read_txt(lb_path)]\n",
    "        \n",
    "        return image_labels\n",
    "    \n",
    "    def read_predefine_class(self):\n",
    "        cdict = dict()\n",
    "        with open(self.predefined_class_file) as f:\n",
    "            lines = f.readlines()\n",
    "            lines = [ _.rstrip() for _ in lines] \n",
    "            for idx, cname in enumerate(lines):\n",
    "                cdict[idx]=cname\n",
    "        return cdict"
   ]
  },
  {
   "cell_type": "code",
   "execution_count": 124,
   "id": "df8d0d5a-ec23-46af-8590-4d20e2a04d8c",
   "metadata": {},
   "outputs": [],
   "source": [
    "class QRCodePatchesDataset(Dataset):\n",
    "    def __init__(self):\n",
    "        pass\n",
    "    \n",
    "    def __len__(self):\n",
    "        pass\n",
    "    \n",
    "    def __getitem__(self, idx):\n",
    "        return None"
   ]
  },
  {
   "cell_type": "code",
   "execution_count": 125,
   "id": "0075c248-c95c-4314-b67c-d5b80aafb0cd",
   "metadata": {},
   "outputs": [
    {
     "name": "stdout",
     "output_type": "stream",
     "text": [
      "(0.0, 0.3769946808510638, 0.58125, 0.22739361702127658, 0.35)\n",
      "(0.0, 0.6555851063829787, 0.3333333333333333, 0.22872340425531915, 0.35833333333333334)\n",
      "(1.0, 0.14893617021276595, 0.7833333333333333, 0.19148936170212766, 0.325)\n"
     ]
    }
   ],
   "source": [
    "# 讀取 yolo format\n",
    "with open('./data/paper_qr_label_yolo/File 015.txt') as f:\n",
    "    lines = f.readlines()\n",
    "    lines = [ _.rstrip() for _ in lines] \n",
    "    \n",
    "    for bbox in lines:\n",
    "        c, x, y, w, h = [float(_) for _ in bbox.split(' ')]\n",
    "        print((c, x, y, w, h))"
   ]
  },
  {
   "cell_type": "code",
   "execution_count": null,
   "id": "50e03aa8-f78e-4b0d-8e4f-ffdfe5ed272f",
   "metadata": {},
   "outputs": [],
   "source": [
    "# yolo to xywh\n",
    "x1, y1 = x-w/2, y-h/2\n",
    "x2, y2 = x+w/2, y+h/2\n",
    "    "
   ]
  },
  {
   "cell_type": "code",
   "execution_count": 126,
   "id": "d62ad395-58f4-4ca8-9a12-ad176d5f3c84",
   "metadata": {},
   "outputs": [],
   "source": [
    "# 讀取 predefined file\n",
    "\n",
    "cdict = dict()\n",
    "with open('./predefined_classes.txt') as f:\n",
    "    lines = f.readlines()\n",
    "    lines = [ _.rstrip() for _ in lines] \n",
    "    for idx, cname in enumerate(lines):\n",
    "        cdict[idx]=cname"
   ]
  },
  {
   "cell_type": "code",
   "execution_count": 127,
   "id": "3b04b877-1625-471d-9983-8ea4e1c2c989",
   "metadata": {},
   "outputs": [],
   "source": [
    "qr_code_dataset = QRCodeDataset(annotations_dir=\"./data/paper_qr_label_yolo\", img_dir=\"./data/paper_qr\",\\\n",
    "                                predefined_class_file=\"./predefined_classes.txt\")"
   ]
  },
  {
   "cell_type": "code",
   "execution_count": 101,
   "id": "acaf2427-d3b4-4396-bce3-c80875f0388a",
   "metadata": {},
   "outputs": [
    {
     "data": {
      "text/plain": [
       "124"
      ]
     },
     "execution_count": 101,
     "metadata": {},
     "output_type": "execute_result"
    }
   ],
   "source": [
    "annotations_dir = \"./data/paper_qr_label_yolo\"\n",
    "\n",
    "len(glob.glob(pjoin(annotations_dir, '*')))"
   ]
  },
  {
   "cell_type": "code",
   "execution_count": 116,
   "id": "3d1feb3b-dea8-4bf1-b340-3534f168a1e9",
   "metadata": {},
   "outputs": [],
   "source": [
    "# \n",
    "image_labels = []\n",
    "a = [(1,1,2,3,4)]\n",
    "b = [(2,1,2,3,4),(3,1,2,3,4)]\n",
    "\n",
    "image_labels = image_labels + b"
   ]
  },
  {
   "cell_type": "code",
   "execution_count": 117,
   "id": "f6044293-95e9-408a-a0ac-952790350de3",
   "metadata": {},
   "outputs": [
    {
     "data": {
      "text/plain": [
       "[(2, 1, 2, 3, 4), (3, 1, 2, 3, 4)]"
      ]
     },
     "execution_count": 117,
     "metadata": {},
     "output_type": "execute_result"
    }
   ],
   "source": [
    "image_labels"
   ]
  },
  {
   "cell_type": "code",
   "execution_count": 118,
   "id": "01a6dfc1-c840-47a1-a885-f87ae56bb90d",
   "metadata": {},
   "outputs": [],
   "source": [
    "image_labels = image_labels + a"
   ]
  },
  {
   "cell_type": "code",
   "execution_count": 119,
   "id": "06fc90c8-116c-4532-a728-e4df22c0675f",
   "metadata": {},
   "outputs": [
    {
     "data": {
      "text/plain": [
       "[(2, 1, 2, 3, 4), (3, 1, 2, 3, 4), (1, 1, 2, 3, 4)]"
      ]
     },
     "execution_count": 119,
     "metadata": {},
     "output_type": "execute_result"
    }
   ],
   "source": [
    "image_labels"
   ]
  },
  {
   "cell_type": "code",
   "execution_count": null,
   "id": "3c0edf8c-e54b-4eef-9833-40cdf193f39f",
   "metadata": {},
   "outputs": [],
   "source": []
  }
 ],
 "metadata": {
  "kernelspec": {
   "display_name": "Python 3 (ipykernel)",
   "language": "python",
   "name": "python3"
  },
  "language_info": {
   "codemirror_mode": {
    "name": "ipython",
    "version": 3
   },
   "file_extension": ".py",
   "mimetype": "text/x-python",
   "name": "python",
   "nbconvert_exporter": "python",
   "pygments_lexer": "ipython3",
   "version": "3.8.0"
  }
 },
 "nbformat": 4,
 "nbformat_minor": 5
}
