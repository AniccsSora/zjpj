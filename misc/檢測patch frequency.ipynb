{
 "cells": [
  {
   "cell_type": "code",
   "execution_count": 1,
   "id": "d6942f92-3c44-4890-9c72-7912ce821fd8",
   "metadata": {},
   "outputs": [],
   "source": [
    "import cv2\n",
    "from calculate_patch_switch_frequency import *\n",
    "from PIL import Image\n",
    "import matplotlib.pyplot as plt\n",
    "import numpy as np\n",
    "import os\n",
    "\n",
    "fshow = Image.fromarray"
   ]
  },
  {
   "cell_type": "code",
   "execution_count": 6,
   "id": "f39df593-43c9-436f-a431-0ec8486ed9d1",
   "metadata": {},
   "outputs": [
    {
     "data": {
      "image/png": "[encoded data removed]",
      "text/plain": [
       "<PIL.Image.Image image mode=L size=32x32 at 0x1B2581AE760>"
      ]
     },
     "execution_count": 6,
     "metadata": {},
     "output_type": "execute_result"
    }
   ],
   "source": [
    "fshow(img)"
   ]
  },
  {
   "cell_type": "code",
   "execution_count": 2,
   "id": "9be20ff1-a088-40bb-ae79-26a457ad710b",
   "metadata": {},
   "outputs": [
    {
     "data": {
      "image/png": "[encoded data removed]",
      "text/plain": [
       "<PIL.Image.Image image mode=L size=32x32 at 0x1B247CFFDC0>"
      ]
     },
     "execution_count": 2,
     "metadata": {},
     "output_type": "execute_result"
    }
   ],
   "source": [
    "img = cv2.imread(\"../data/paper_qr/File 015.bmp\", cv2.COLOR_BGR2GRAY)\n",
    "os.path.exists(\"../data/paper_qr/File 015.bmp\")\n",
    "\n",
    "img = get_square_region(img, (450,150), 32) # 截出小區塊\n",
    "\n",
    "# 二值化\n",
    "thres1 = cv2.adaptiveThreshold(img, 255, cv2.ADAPTIVE_THRESH_GAUSSIAN_C, cv2.THRESH_BINARY, 199, 10)\n",
    "# thres2 = cv2.adaptiveThreshold(qr_image, 255, cv2.ADAPTIVE_THRESH_MEAN_C    , cv2.THRESH_BINARY, 199, 10)\n",
    "# cv2.imshow('Adaptive Mean', thres1)\n",
    "# cv2.imshow('Adaptive Gaussian', thres2)\n",
    "# # De-allocate any associated memory usage  \n",
    "# if cv2.waitKey(0) & 0xff == 27: \n",
    "#     cv2.destroyAllWindows() \n",
    "fshow(thres1)\n",
    "\n",
    "# edge detection\n",
    "edges = cv2.Canny(thres1, 10, 254)\n",
    "edges = 255-(edges)\n",
    "fshow(edges)\n",
    "\n",
    "kernel = np.ones((3,3), np.uint8)\n",
    "# closing\n",
    "# 先侵蝕(侵蝕數值高的-白色) 再 膨脹。\n",
    "# 閉運算 為 先膨脹 再 腐蝕\n",
    "dilation = cv2.dilate(thres1, kernel, iterations = 1)\n",
    "erosion = cv2.erode(dilation, kernel, iterations = 1)\n",
    "\n",
    "fshow(erosion)"
   ]
  },
  {
   "cell_type": "code",
   "execution_count": 5,
   "id": "92f17fdd-cd5b-434c-aa13-8638816fca1f",
   "metadata": {},
   "outputs": [
    {
     "data": {
      "text/plain": [
       "6"
      ]
     },
     "execution_count": 5,
     "metadata": {},
     "output_type": "execute_result"
    }
   ],
   "source": [
    "calculate_patch_switch_frequency(erosion, condi=32)"
   ]
  },
  {
   "cell_type": "code",
   "execution_count": null,
   "id": "a8ff8894-e994-46de-8a8a-948cb3b94b03",
   "metadata": {},
   "outputs": [],
   "source": []
  },
  {
   "cell_type": "code",
   "execution_count": 43,
   "id": "49046120-a167-4e80-97df-032c883c4223",
   "metadata": {},
   "outputs": [
    {
     "data": {
      "image/png": "[encoded data removed]",
      "text/plain": [
       "<PIL.Image.Image image mode=L size=32x32 at 0x20C6026A3A0>"
      ]
     },
     "execution_count": 43,
     "metadata": {},
     "output_type": "execute_result"
    }
   ],
   "source": [
    "img = cv2.imread(\"./test.jpg\", cv2.COLOR_BGR2GRAY)\n",
    "fshow(img)"
   ]
  },
  {
   "cell_type": "code",
   "execution_count": 12,
   "id": "da3d8b76-1c78-45bd-90f3-9924ff16f678",
   "metadata": {},
   "outputs": [],
   "source": [
    "lines = cpsf.calculate_patch_switch_frequency(img, condi=32)"
   ]
  },
  {
   "cell_type": "code",
   "execution_count": 13,
   "id": "57b6db42-ba18-488b-bbff-9e8da226a854",
   "metadata": {},
   "outputs": [
    {
     "data": {
      "text/plain": [
       "(64, 32)"
      ]
     },
     "execution_count": 13,
     "metadata": {},
     "output_type": "execute_result"
    }
   ],
   "source": [
    "lines.shape"
   ]
  },
  {
   "cell_type": "code",
   "execution_count": 14,
   "id": "f064f3aa-003a-4360-8156-f11dd43346d1",
   "metadata": {},
   "outputs": [
    {
     "name": "stdout",
     "output_type": "stream",
     "text": [
      "[1 1 1 1 1 1 1 1 1 1 1 1 1 1 1 1 1 1 1 1 0 0 0 0 0 0 0 0 0 0 0 0]\n",
      "[1 1 1 1 1 1 1 1 1 1 1 1 1 1 1 1 1 1 1 1 0 0 0 0 0 0 0 0 0 0 0 0]\n",
      "[1 1 1 1 1 1 1 1 1 1 1 1 1 1 1 1 1 1 1 1 0 0 0 0 0 0 0 0 0 0 0 0]\n",
      "[1 1 1 1 1 1 1 1 1 1 1 1 1 1 1 1 1 1 1 1 1 0 0 0 0 0 0 0 0 0 0 0]\n",
      "[1 1 1 1 1 1 1 1 1 1 1 1 1 1 1 1 1 1 1 1 1 0 0 0 0 0 0 0 0 0 0 0]\n",
      "[1 1 1 1 1 1 1 1 1 1 1 1 1 1 1 1 1 1 1 1 0 0 0 0 0 0 0 0 0 0 0 0]\n",
      "[1 1 1 1 1 1 1 1 1 1 1 1 1 1 1 1 1 1 0 0 0 0 0 0 0 0 0 0 0 0 0 0]\n",
      "[1 1 1 1 1 1 1 1 1 1 1 1 1 1 1 0 0 0 0 0 0 0 0 0 0 0 0 0 0 0 0 0]\n",
      "[1 1 1 1 1 1 1 1 1 1 1 0 0 0 0 0 0 0 0 0 0 0 0 0 0 0 0 0 0 0 0 0]\n",
      "[1 1 1 1 1 1 1 1 0 0 0 0 0 0 0 0 0 0 0 0 0 0 0 0 0 0 0 0 0 0 0 0]\n",
      "[1 1 1 1 1 0 0 0 0 0 0 0 0 0 0 0 0 0 0 0 0 0 0 0 0 0 0 0 0 0 0 0]\n",
      "[1 1 0 0 0 0 0 0 0 0 0 0 0 0 0 0 0 0 0 0 0 0 0 0 0 0 0 0 0 0 0 0]\n",
      "[0 0 0 0 0 0 0 0 0 0 0 0 0 0 0 0 0 0 0 0 0 0 0 0 0 0 0 0 0 0 0 0]\n",
      "[0 0 0 0 0 0 0 0 0 0 0 0 0 0 0 0 0 0 0 0 0 0 0 0 0 0 0 0 1 1 1 1]\n",
      "[0 0 0 0 0 0 0 0 0 0 0 0 0 0 0 0 0 0 0 0 0 0 0 0 0 1 1 1 1 1 1 1]\n",
      "[0 0 0 0 0 0 0 0 0 0 0 0 0 0 0 0 0 0 0 0 0 0 0 0 0 1 1 1 1 1 1 1]\n",
      "[0 0 0 0 0 0 0 0 0 0 0 0 0 0 0 0 0 0 0 0 0 0 0 0 0 1 1 1 1 1 1 1]\n",
      "[0 0 0 0 0 0 0 0 0 0 0 0 0 0 0 0 0 0 0 0 0 0 0 0 0 1 1 1 1 1 1 1]\n",
      "[0 0 0 0 0 0 0 0 0 0 0 0 1 1 0 0 0 0 0 0 0 0 0 0 0 1 1 1 1 1 1 1]\n",
      "[0 0 0 0 0 0 0 0 1 1 1 1 1 1 0 0 0 0 0 0 0 0 0 0 0 0 1 1 1 1 1 1]\n",
      "[0 0 0 0 0 0 1 1 1 1 1 1 1 1 1 0 0 0 0 0 0 0 0 0 0 0 1 1 1 1 1 1]\n",
      "[0 0 0 0 0 0 1 1 1 1 1 1 1 1 1 0 0 0 0 0 0 0 0 0 0 0 1 1 1 1 1 1]\n",
      "[0 0 0 0 0 0 1 1 1 1 1 1 1 1 1 0 0 0 0 0 0 0 0 0 0 0 1 1 1 1 1 1]\n",
      "[0 0 0 0 0 0 1 1 1 1 1 1 1 1 1 1 0 0 0 0 0 0 0 0 0 0 1 1 1 1 1 1]\n",
      "[0 0 0 0 0 0 0 1 1 1 1 1 1 1 1 1 0 0 0 0 0 0 0 1 1 1 1 1 1 1 1 1]\n",
      "[0 0 0 0 0 0 0 1 1 1 1 1 1 1 1 1 0 0 0 0 0 1 1 1 1 1 1 1 1 1 1 1]\n",
      "[0 0 0 0 0 0 0 1 1 1 1 1 1 1 1 1 1 1 1 1 1 1 1 1 1 1 1 1 1 1 1 1]\n",
      "[0 0 0 0 0 0 0 0 1 1 1 1 1 1 1 1 1 1 1 1 1 1 1 1 1 1 1 1 1 1 1 1]\n",
      "[0 0 0 0 0 0 0 0 1 1 1 1 1 1 1 1 1 1 1 1 1 1 1 1 1 1 1 1 1 1 1 1]\n",
      "[0 0 0 0 0 0 0 0 1 1 1 1 1 1 1 1 1 1 1 1 1 1 1 1 1 1 1 1 1 1 1 1]\n",
      "[0 0 0 0 0 0 0 0 0 1 1 1 1 1 1 1 1 1 1 1 1 1 1 1 1 1 1 1 1 1 1 1]\n",
      "[0 0 0 0 0 0 0 0 0 1 1 1 1 1 1 1 1 1 1 1 1 1 1 1 1 1 1 1 1 1 1 1]\n",
      "[1 1 1 1 1 1 1 1 1 1 1 1 0 0 0 0 0 0 0 0 0 0 0 0 0 0 0 0 0 0 0 0]\n",
      "[1 1 1 1 1 1 1 1 1 1 1 1 0 0 0 0 0 0 0 0 0 0 0 0 0 0 0 0 0 0 0 0]\n",
      "[1 1 1 1 1 1 1 1 1 1 1 0 0 0 0 0 0 0 0 0 0 0 0 0 0 0 0 0 0 0 0 0]\n",
      "[1 1 1 1 1 1 1 1 1 1 1 0 0 0 0 0 0 0 0 0 0 0 0 0 0 0 0 0 0 0 0 0]\n",
      "[1 1 1 1 1 1 1 1 1 1 1 0 0 0 0 0 0 0 0 0 0 0 0 0 0 0 0 0 0 0 0 0]\n",
      "[1 1 1 1 1 1 1 1 1 1 0 0 0 0 0 0 0 0 0 0 0 0 0 0 0 0 0 0 0 0 0 0]\n",
      "[1 1 1 1 1 1 1 1 1 1 0 0 0 0 0 0 0 0 0 0 1 1 1 1 0 0 0 0 0 0 0 0]\n",
      "[1 1 1 1 1 1 1 1 1 1 0 0 0 0 0 0 0 0 0 0 1 1 1 1 1 1 1 0 0 0 0 0]\n",
      "[1 1 1 1 1 1 1 1 1 0 0 0 0 0 0 0 0 0 0 1 1 1 1 1 1 1 1 1 1 1 0 0]\n",
      "[1 1 1 1 1 1 1 1 1 0 0 0 0 0 0 0 0 0 0 1 1 1 1 1 1 1 1 1 1 1 1 1]\n",
      "[1 1 1 1 1 1 1 1 1 0 0 0 0 0 0 0 0 0 0 1 1 1 1 1 1 1 1 1 1 1 1 1]\n",
      "[1 1 1 1 1 1 1 1 0 0 0 0 0 0 0 0 0 0 0 1 1 1 1 1 1 1 1 1 1 1 1 1]\n",
      "[1 1 1 1 1 1 1 1 0 0 0 0 0 0 0 0 0 0 1 1 1 1 1 1 1 1 1 1 1 1 1 1]\n",
      "[1 1 1 1 1 1 1 1 0 0 0 0 0 0 0 0 0 0 1 1 1 1 1 1 1 1 1 1 1 1 1 1]\n",
      "[1 1 1 1 1 1 1 1 0 0 0 0 0 0 0 0 0 0 0 0 1 1 1 1 1 1 1 1 1 1 1 1]\n",
      "[1 1 1 1 1 1 1 0 0 0 0 0 0 0 0 0 0 0 0 0 0 0 0 1 1 1 1 1 1 1 1 1]\n",
      "[1 1 1 1 1 1 1 0 0 0 0 0 0 0 0 0 0 0 0 0 0 0 0 0 0 0 1 1 1 1 1 1]\n",
      "[1 1 1 1 1 1 1 0 0 0 0 0 0 0 0 0 0 0 0 0 0 0 0 0 0 0 1 1 1 1 1 1]\n",
      "[1 1 1 1 1 1 0 0 0 0 0 0 0 0 0 0 0 0 0 0 0 0 0 0 0 0 1 1 1 1 1 1]\n",
      "[1 1 1 1 1 1 0 0 0 0 0 0 0 0 0 0 0 0 0 0 0 0 0 0 0 0 1 1 1 1 1 1]\n",
      "[0 0 0 1 1 0 0 0 0 0 0 0 0 0 0 0 0 0 0 0 0 0 0 0 0 0 1 1 1 1 1 1]\n",
      "[0 0 0 0 0 0 0 0 0 0 0 0 0 0 0 0 0 0 0 0 0 0 0 0 0 1 1 1 1 1 1 1]\n",
      "[0 0 0 0 0 0 0 0 0 0 0 0 0 0 0 0 0 0 0 0 0 0 0 0 0 1 1 1 1 1 1 1]\n",
      "[0 0 0 0 0 0 0 0 0 0 0 0 0 0 0 0 0 0 0 0 0 0 0 0 1 1 1 1 1 1 1 1]\n",
      "[0 0 0 0 0 0 0 0 0 0 0 0 0 0 0 0 0 0 0 0 0 0 0 0 1 1 1 1 1 1 1 1]\n",
      "[0 0 0 0 0 0 0 0 0 0 0 0 0 0 1 1 1 1 1 0 0 0 0 0 1 1 1 1 1 1 1 1]\n",
      "[0 0 0 0 0 0 0 0 0 0 0 0 0 0 1 1 1 1 1 1 1 1 1 1 1 1 1 1 1 1 1 1]\n",
      "[0 0 0 0 0 0 0 0 0 0 0 0 0 0 1 1 1 1 1 1 1 1 1 1 1 1 1 1 1 1 1 1]\n",
      "[0 0 0 0 0 0 0 0 0 0 0 0 0 1 1 1 1 1 1 1 1 1 1 1 1 1 1 1 1 1 1 1]\n",
      "[0 0 0 0 0 0 0 0 0 0 0 0 0 1 1 1 1 1 1 1 1 1 1 1 1 1 1 1 1 1 1 1]\n",
      "[0 0 0 0 0 0 0 0 0 0 0 0 0 1 1 1 1 1 1 1 1 1 1 1 1 1 1 1 1 1 1 1]\n",
      "[0 0 0 0 0 0 0 0 0 0 0 0 0 1 1 1 1 1 1 1 1 1 1 1 1 1 1 1 1 1 1 1]\n"
     ]
    }
   ],
   "source": [
    "for line in lines:\n",
    "    print(line)"
   ]
  },
  {
   "cell_type": "code",
   "execution_count": 15,
   "id": "201e91d9-3b38-46bb-9f0b-2f39a59ef7fc",
   "metadata": {},
   "outputs": [],
   "source": [
    "res = []\n",
    "for line in lines:\n",
    "    res.append(cnt_1d_vec_freq(line))"
   ]
  },
  {
   "cell_type": "code",
   "execution_count": 16,
   "id": "658b69a6-ec77-4ca7-b24d-abe79db50b83",
   "metadata": {},
   "outputs": [
    {
     "data": {
      "text/plain": [
       "[[20, 12],\n",
       " [20, 12],\n",
       " [20, 12],\n",
       " [21, 11],\n",
       " [21, 11],\n",
       " [20, 12],\n",
       " [18, 14],\n",
       " [15, 17],\n",
       " [11, 21],\n",
       " [8, 24],\n",
       " [5, 27],\n",
       " [2, 30],\n",
       " [32],\n",
       " [28, 4],\n",
       " [25, 7],\n",
       " [25, 7],\n",
       " [25, 7],\n",
       " [25, 7],\n",
       " [12, 2, 11, 7],\n",
       " [8, 6, 12, 6],\n",
       " [6, 9, 11, 6],\n",
       " [6, 9, 11, 6],\n",
       " [6, 9, 11, 6],\n",
       " [6, 10, 10, 6],\n",
       " [7, 9, 7, 9],\n",
       " [7, 9, 5, 11],\n",
       " [7, 25],\n",
       " [8, 24],\n",
       " [8, 24],\n",
       " [8, 24],\n",
       " [9, 23],\n",
       " [9, 23],\n",
       " [12, 20],\n",
       " [12, 20],\n",
       " [11, 21],\n",
       " [11, 21],\n",
       " [11, 21],\n",
       " [10, 22],\n",
       " [10, 10, 4, 8],\n",
       " [10, 10, 7, 5],\n",
       " [9, 10, 11, 2],\n",
       " [9, 10, 13],\n",
       " [9, 10, 13],\n",
       " [8, 11, 13],\n",
       " [8, 10, 14],\n",
       " [8, 10, 14],\n",
       " [8, 12, 12],\n",
       " [7, 16, 9],\n",
       " [7, 19, 6],\n",
       " [7, 19, 6],\n",
       " [6, 20, 6],\n",
       " [6, 20, 6],\n",
       " [3, 2, 21, 6],\n",
       " [25, 7],\n",
       " [25, 7],\n",
       " [24, 8],\n",
       " [24, 8],\n",
       " [14, 5, 5, 8],\n",
       " [14, 18],\n",
       " [14, 18],\n",
       " [13, 19],\n",
       " [13, 19],\n",
       " [13, 19],\n",
       " [13, 19]]"
      ]
     },
     "execution_count": 16,
     "metadata": {},
     "output_type": "execute_result"
    }
   ],
   "source": [
    "res"
   ]
  },
  {
   "cell_type": "code",
   "execution_count": 17,
   "id": "13a77ec5-9f82-4687-a431-cd1d028b9783",
   "metadata": {},
   "outputs": [],
   "source": [
    "# 不篩選 res 結果長度為 1 的因為根本沒有變化。"
   ]
  },
  {
   "cell_type": "code",
   "execution_count": 3,
   "id": "c3db2bbd-438d-4f54-99d1-8287a074abfe",
   "metadata": {},
   "outputs": [
    {
     "ename": "NameError",
     "evalue": "name 'res' is not defined",
     "output_type": "error",
     "traceback": [
      "\u001b[1;31m---------------------------------------------------------------------------\u001b[0m",
      "\u001b[1;31mNameError\u001b[0m                                 Traceback (most recent call last)",
      "\u001b[1;32m~\\AppData\\Local\\Temp/ipykernel_38488/968897941.py\u001b[0m in \u001b[0;36m<module>\u001b[1;34m\u001b[0m\n\u001b[0;32m      1\u001b[0m \u001b[1;31m# res長度為 3 以上(包括) ，取中位數\u001b[0m\u001b[1;33m\u001b[0m\u001b[1;33m\u001b[0m\u001b[1;33m\u001b[0m\u001b[0m\n\u001b[1;32m----> 2\u001b[1;33m \u001b[1;32mfor\u001b[0m \u001b[0mr\u001b[0m \u001b[1;32min\u001b[0m \u001b[0mres\u001b[0m\u001b[1;33m:\u001b[0m\u001b[1;33m\u001b[0m\u001b[1;33m\u001b[0m\u001b[0m\n\u001b[0m\u001b[0;32m      3\u001b[0m     \u001b[1;32mif\u001b[0m \u001b[0mlen\u001b[0m\u001b[1;33m(\u001b[0m\u001b[0mr\u001b[0m\u001b[1;33m)\u001b[0m \u001b[1;33m>=\u001b[0m \u001b[1;36m3\u001b[0m\u001b[1;33m:\u001b[0m\u001b[1;33m\u001b[0m\u001b[1;33m\u001b[0m\u001b[0m\n\u001b[0;32m      4\u001b[0m         \u001b[0mprint\u001b[0m\u001b[1;33m(\u001b[0m\u001b[1;34m\"len:\"\u001b[0m\u001b[1;33m,\u001b[0m \u001b[0mlen\u001b[0m\u001b[1;33m(\u001b[0m\u001b[0mr\u001b[0m\u001b[1;33m)\u001b[0m\u001b[1;33m,\u001b[0m \u001b[0mnp\u001b[0m\u001b[1;33m.\u001b[0m\u001b[0mmedian\u001b[0m\u001b[1;33m(\u001b[0m\u001b[0mr\u001b[0m\u001b[1;33m)\u001b[0m\u001b[1;33m,\u001b[0m \u001b[1;34m\"cmp\"\u001b[0m\u001b[1;33m,\u001b[0m \u001b[0mnp\u001b[0m\u001b[1;33m.\u001b[0m\u001b[0mmean\u001b[0m\u001b[1;33m(\u001b[0m\u001b[0mr\u001b[0m\u001b[1;33m)\u001b[0m\u001b[1;33m)\u001b[0m\u001b[1;33m\u001b[0m\u001b[1;33m\u001b[0m\u001b[0m\n",
      "\u001b[1;31mNameError\u001b[0m: name 'res' is not defined"
     ]
    }
   ],
   "source": [
    "# res長度為 3 以上(包括) ，取中位數 \n",
    "for r in res:\n",
    "    if len(r) >= 3:\n",
    "        print(\"len:\", len(r), np.median(r), \"cmp\", np.mean(r))"
   ]
  },
  {
   "cell_type": "code",
   "execution_count": 28,
   "id": "6ca40a3b-f8b4-4023-8686-a875e6cab2b8",
   "metadata": {},
   "outputs": [],
   "source": [
    "# 結果使用 res 長度為3以上的做中位數評估比較準確。"
   ]
  },
  {
   "cell_type": "code",
   "execution_count": 32,
   "id": "58bfc12b-fe93-4ca8-b449-e58c439f14b1",
   "metadata": {},
   "outputs": [
    {
     "name": "stdout",
     "output_type": "stream",
     "text": [
      "8.270833333333334\n",
      "9.22222222222222\n",
      "9.0\n"
     ]
    }
   ],
   "source": [
    "eva_median=0\n",
    "eva_mean=0\n",
    "eva_number=0\n",
    "# res長度為 3 以上(包括) ，取中位數 \n",
    "for r in res:\n",
    "    if len(r) >= 3:\n",
    "        eva_median += np.median(r)\n",
    "        eva_mean += np.mean(r)\n",
    "        eva_number+=1\n",
    "eva_median/= eva_number\n",
    "eva_mean/= eva_number\n",
    "\n",
    "print(eva_median)\n",
    "print(eva_mean)\n",
    "\n",
    "# 平均後無條件進位\n",
    "print(int(np.ceil((eva_median+eva_mean)/2)))"
   ]
  },
  {
   "cell_type": "code",
   "execution_count": 34,
   "id": "4f20523f-eef5-488e-b33e-07f1e2615a09",
   "metadata": {},
   "outputs": [
    {
     "name": "stdout",
     "output_type": "stream",
     "text": [
      "8.270833333333334\n",
      "9.22222222222222\n",
      "9\n"
     ]
    }
   ],
   "source": [
    "# 總結評估方法\n",
    "res = []\n",
    "for line in lines:\n",
    "    res.append(cnt_1d_vec_freq(line))\n",
    "    \n",
    "eva_median=0\n",
    "eva_mean=0\n",
    "eva_number=0\n",
    "# res長度為 3 以上(包括) ，取中位數 \n",
    "for r in res:\n",
    "    if len(r) >= 3:\n",
    "        eva_median += np.median(r)\n",
    "        eva_mean += np.mean(r)\n",
    "        eva_number+=1\n",
    "eva_median/= eva_number\n",
    "eva_mean/= eva_number\n",
    "\n",
    "# 平均後無條件進位\n",
    "#return int(np.ceil((eva_median+eva_mean)/2))\n",
    "print(int(np.ceil((eva_median+eva_mean)/2)))"
   ]
  },
  {
   "cell_type": "code",
   "execution_count": 4,
   "id": "8f61d206-fac2-433d-a1b4-8299a4ebef36",
   "metadata": {},
   "outputs": [
    {
     "data": {
      "text/plain": [
       "6"
      ]
     },
     "execution_count": 4,
     "metadata": {},
     "output_type": "execute_result"
    }
   ],
   "source": []
  },
  {
   "cell_type": "code",
   "execution_count": null,
   "id": "8a70e195-0774-4e59-a015-c262d8a63820",
   "metadata": {},
   "outputs": [],
   "source": []
  }
 ],
 "metadata": {
  "kernelspec": {
   "display_name": "Python 3 (ipykernel)",
   "language": "python",
   "name": "python3"
  },
  "language_info": {
   "codemirror_mode": {
    "name": "ipython",
    "version": 3
   },
   "file_extension": ".py",
   "mimetype": "text/x-python",
   "name": "python",
   "nbconvert_exporter": "python",
   "pygments_lexer": "ipython3",
   "version": "3.8.0"
  }
 },
 "nbformat": 4,
 "nbformat_minor": 5
}
