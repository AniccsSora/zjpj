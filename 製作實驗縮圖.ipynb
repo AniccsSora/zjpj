{
 "cells": [
  {
   "cell_type": "code",
   "execution_count": 45,
   "id": "28359ed8-a862-4c8c-b803-f283d0f3732d",
   "metadata": {},
   "outputs": [],
   "source": [
    "from PIL import Image\n",
    "from glob import glob\n",
    "import numpy as np\n",
    "import cv2\n",
    "import random\n",
    "import matplotlib.pyplot as plt\n",
    "import copy\n",
    "%matplotlib inline"
   ]
  },
  {
   "cell_type": "code",
   "execution_count": 16,
   "id": "03108a1a-efee-434c-98e8-04c988b9c334",
   "metadata": {},
   "outputs": [],
   "source": [
    "def expand2square(pil_img, background_color):\n",
    "    width, height = pil_img.size\n",
    "    if width == height:\n",
    "        return pil_img\n",
    "    elif width > height:\n",
    "        result = Image.new(pil_img.mode, (width, width), background_color)\n",
    "        result.paste(pil_img, (0, (width - height) // 2))\n",
    "        return result\n",
    "    else:\n",
    "        result = Image.new(pil_img.mode, (height, height), background_color)\n",
    "        result.paste(pil_img, ((height - width) // 2, 0))\n",
    "        return result"
   ]
  },
  {
   "cell_type": "code",
   "execution_count": 10,
   "id": "a3cbfc8e-0b17-4229-8a1b-cac70dc8f900",
   "metadata": {},
   "outputs": [],
   "source": [
    "IOU_estm_root = r'D:\\Git\\zjpj\\data_clean\\IoU_test_image'\n",
    "\n",
    "images = glob(IOU_estm_root+'/*.*')   "
   ]
  },
  {
   "cell_type": "code",
   "execution_count": 35,
   "id": "017cd78a-071a-491a-a25e-f96680eb8aee",
   "metadata": {},
   "outputs": [],
   "source": [
    "\n",
    "\n"
   ]
  },
  {
   "cell_type": "code",
   "execution_count": 38,
   "id": "32d2b6de-f63f-4a7b-b6a4-c73842046c48",
   "metadata": {},
   "outputs": [],
   "source": []
  },
  {
   "cell_type": "code",
   "execution_count": 60,
   "id": "7343658d-4e9d-4ad4-bcd1-6cc18d84b504",
   "metadata": {},
   "outputs": [],
   "source": [
    "# 要抓的圖片來源 root dir.\n",
    "IOU_estm_root = r'D:\\Git\\zjpj\\data_clean\\IoU_test_image'\n",
    "\n",
    "images = glob(IOU_estm_root + '/*.*')\n",
    "MAX_SIZE = (150, 150)\n",
    "ncols, nrows = 6, 6\n",
    "total_im = ncols*nrows\n",
    "number_of_picture = 3\n",
    "pick_list = []\n",
    "random.shuffle(images)\n",
    "for i in range(ncols * nrows * number_of_picture):\n",
    "    pick_list.append(images[i])\n",
    "\n",
    "res = []\n",
    "for times in range(number_of_picture):\n",
    "    vst = None\n",
    "    for i in range(ncols):\n",
    "        hst = None\n",
    "        for j in range(nrows):\n",
    "            image = Image.open(pick_list[(total_im*times)+i * ncols + j])\n",
    "            image.thumbnail(MAX_SIZE)\n",
    "            image = expand2square(image, (0, 0, 0))\n",
    "            image = np.array(image)\n",
    "            if hst is None:\n",
    "                hst = image\n",
    "            else:\n",
    "                hst = np.hstack((hst, image))\n",
    "        #\n",
    "        if vst is None:\n",
    "            vst = hst\n",
    "        else:\n",
    "            vst = np.vstack((vst, hst))\n",
    "    #\n",
    "    res.append(np.array(copy.deepcopy(vst)))\n",
    "    \n",
    "for idx, image in enumerate(res):\n",
    "    plt.imsave(f\"./merge_{idx}.png\", res[idx], dpi=300)"
   ]
  },
  {
   "cell_type": "code",
   "execution_count": null,
   "id": "acc63950-e77e-40d1-9647-0c4aa5583554",
   "metadata": {},
   "outputs": [],
   "source": []
  }
 ],
 "metadata": {
  "kernelspec": {
   "display_name": "Python 3 (ipykernel)",
   "language": "python",
   "name": "python3"
  },
  "language_info": {
   "codemirror_mode": {
    "name": "ipython",
    "version": 3
   },
   "file_extension": ".py",
   "mimetype": "text/x-python",
   "name": "python",
   "nbconvert_exporter": "python",
   "pygments_lexer": "ipython3",
   "version": "3.8.0"
  }
 },
 "nbformat": 4,
 "nbformat_minor": 5
}
