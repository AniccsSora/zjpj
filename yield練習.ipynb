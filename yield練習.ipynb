{
 "cells": [
  {
   "cell_type": "code",
   "execution_count": 54,
   "id": "c0006320-e6c3-45d2-8d57-ee5ea5d02dda",
   "metadata": {},
   "outputs": [],
   "source": [
    "# yield 是 \"一種\" return ??!!"
   ]
  },
  {
   "cell_type": "code",
   "execution_count": 55,
   "id": "14b1a0aa-465b-4a2a-8196-f1575132fe36",
   "metadata": {},
   "outputs": [],
   "source": [
    "def foo():\n",
    "    print(\"starting...\")\n",
    "    while True:\n",
    "        res = yield 4\n",
    "        print(\"res:\", res)\n",
    "        print(\"使用 next() 第二次呼叫才會執行這邊!\")"
   ]
  },
  {
   "cell_type": "code",
   "execution_count": 56,
   "id": "ba1c945c-95e2-4c01-a711-ca8e8f8e6422",
   "metadata": {},
   "outputs": [
    {
     "data": {
      "text/plain": [
       "<generator object foo at 0x0000021D38749120>"
      ]
     },
     "execution_count": 56,
     "metadata": {},
     "output_type": "execute_result"
    }
   ],
   "source": [
    "g = foo() # 因為 foo() 使用了 yield 故不會被視為 func 他不執行。(它被視為生成器)\n",
    "g"
   ]
  },
  {
   "cell_type": "code",
   "execution_count": 60,
   "id": "e3810314-bdf4-4f49-b6da-49d918373f5c",
   "metadata": {},
   "outputs": [
    {
     "name": "stdout",
     "output_type": "stream",
     "text": [
      "res: None\n",
      "第二次呼叫 next 才會執行這邊!\n",
      "4\n"
     ]
    }
   ],
   "source": [
    "print(next(g))"
   ]
  },
  {
   "cell_type": "code",
   "execution_count": 57,
   "id": "a2cb184c-0f4b-459e-bfcf-ac3971c1359d",
   "metadata": {},
   "outputs": [],
   "source": [
    "def too(num):\n",
    "    print(\"starting...\")\n",
    "    while num<10:\n",
    "        num=num+1\n",
    "        yield num"
   ]
  },
  {
   "cell_type": "code",
   "execution_count": 61,
   "id": "cbc9228c-2835-431c-888a-3b183796c663",
   "metadata": {},
   "outputs": [],
   "source": [
    "def fab(max):\n",
    "    n, a, b = 0, 0, 1\n",
    "    while n < max:\n",
    "        yield b\n",
    "        print(\"用next的話，第二次才執行\")\n",
    "        a, b = b, a + b\n",
    "        n = n + 1         "
   ]
  },
  {
   "cell_type": "code",
   "execution_count": 48,
   "id": "3c85a1b0-0117-4f0e-a89f-8e78f629e738",
   "metadata": {},
   "outputs": [
    {
     "name": "stdout",
     "output_type": "stream",
     "text": [
      "1\n",
      "第二次才執行\n"
     ]
    }
   ],
   "source": [
    "for n in fab(1):\n",
    "    print(n)"
   ]
  },
  {
   "cell_type": "code",
   "execution_count": 62,
   "id": "a40525b3-34d9-4acd-ae3d-e295c9abdc39",
   "metadata": {},
   "outputs": [],
   "source": [
    "aa = fab(5)"
   ]
  },
  {
   "cell_type": "code",
   "execution_count": 69,
   "id": "c28bb92e-76c5-4b3b-ac05-4206141eefa3",
   "metadata": {},
   "outputs": [
    {
     "name": "stdout",
     "output_type": "stream",
     "text": [
      "第二次才執行\n"
     ]
    },
    {
     "ename": "StopIteration",
     "evalue": "",
     "output_type": "error",
     "traceback": [
      "\u001b[1;31m---------------------------------------------------------------------------\u001b[0m",
      "\u001b[1;31mStopIteration\u001b[0m                             Traceback (most recent call last)",
      "\u001b[1;32m~\\AppData\\Local\\Temp/ipykernel_12824/170615653.py\u001b[0m in \u001b[0;36m<module>\u001b[1;34m\u001b[0m\n\u001b[1;32m----> 1\u001b[1;33m \u001b[0mprint\u001b[0m\u001b[1;33m(\u001b[0m\u001b[0mnext\u001b[0m\u001b[1;33m(\u001b[0m\u001b[0maa\u001b[0m\u001b[1;33m)\u001b[0m\u001b[1;33m)\u001b[0m\u001b[1;33m\u001b[0m\u001b[1;33m\u001b[0m\u001b[0m\n\u001b[0m",
      "\u001b[1;31mStopIteration\u001b[0m: "
     ]
    }
   ],
   "source": [
    "print(next(aa))"
   ]
  },
  {
   "cell_type": "code",
   "execution_count": null,
   "id": "718c5bd8-9d77-4e3b-b789-2cd3576f4508",
   "metadata": {},
   "outputs": [],
   "source": []
  },
  {
   "cell_type": "code",
   "execution_count": null,
   "id": "03feb86e-8898-4032-9725-cdef9b64624c",
   "metadata": {},
   "outputs": [],
   "source": []
  }
 ],
 "metadata": {
  "kernelspec": {
   "display_name": "Python 3 (ipykernel)",
   "language": "python",
   "name": "python3"
  },
  "language_info": {
   "codemirror_mode": {
    "name": "ipython",
    "version": 3
   },
   "file_extension": ".py",
   "mimetype": "text/x-python",
   "name": "python",
   "nbconvert_exporter": "python",
   "pygments_lexer": "ipython3",
   "version": "3.8.0"
  }
 },
 "nbformat": 4,
 "nbformat_minor": 5
}
