{
 "cells": [
  {
   "cell_type": "code",
   "execution_count": null,
   "metadata": {
    "colab": {
     "base_uri": "https://localhost:8080/"
    },
    "executionInfo": {
     "elapsed": 21825,
     "status": "ok",
     "timestamp": 1667758154566,
     "user": {
      "displayName": "Sora Anicca",
      "userId": "09773324512361123216"
     },
     "user_tz": -480
    },
    "id": "9wSz3EcYFxDM",
    "outputId": "edd9290b-6266-4ec4-dba4-9faa2ffd1639"
   },
   "outputs": [],
   "source": [
    "# google 掛載點位\n",
    "from google.colab import files\n",
    "from google.colab import drive\n",
    "drive.mount('/content/gdrive') # 就是掛在這邊~"
   ]
  },
  {
   "cell_type": "code",
   "execution_count": null,
   "metadata": {
    "colab": {
     "base_uri": "https://localhost:8080/"
    },
    "executionInfo": {
     "elapsed": 2557,
     "status": "ok",
     "timestamp": 1667758157120,
     "user": {
      "displayName": "Sora Anicca",
      "userId": "09773324512361123216"
     },
     "user_tz": -480
    },
    "id": "eS1j4puoFy-f",
    "outputId": "e36b78ea-3503-4567-9e59-6c86e437ecc6"
   },
   "outputs": [],
   "source": [
    "# 執行環境\n",
    "RUN = \"/content/gdrive/MyDrive/!for_yzu_drive/\\'!Zhang-Jia Project\\'/colab\"\n",
    "!ls -la $RUN\n",
    "# 確認要解壓的 東西有列出來"
   ]
  },
  {
   "cell_type": "code",
   "execution_count": null,
   "metadata": {
    "executionInfo": {
     "elapsed": 1299,
     "status": "ok",
     "timestamp": 1667758158416,
     "user": {
      "displayName": "Sora Anicca",
      "userId": "09773324512361123216"
     },
     "user_tz": -480
    },
    "id": "6AmzrljNF5F2"
   },
   "outputs": [],
   "source": [
    "# 解壓至 runtime 環境\n",
    "!unzip -q $RUN/colab.zip"
   ]
  },
  {
   "cell_type": "code",
   "execution_count": null,
   "metadata": {
    "executionInfo": {
     "elapsed": 1,
     "status": "ok",
     "timestamp": 1667758265319,
     "user": {
      "displayName": "Sora Anicca",
      "userId": "09773324512361123216"
     },
     "user_tz": -480
    },
    "id": "9-ukz6UhGHA9"
   },
   "outputs": [],
   "source": [
    "import model as my_model\n",
    "import dataloader as my_dataset\n",
    "import train as my_train\n",
    "\n",
    "from torch.utils.data import DataLoader\n",
    "import numpy as np\n",
    "import matplotlib.pyplot as plt"
   ]
  },
  {
   "cell_type": "code",
   "execution_count": null,
   "metadata": {
    "colab": {
     "base_uri": "https://localhost:8080/"
    },
    "executionInfo": {
     "elapsed": 46767,
     "status": "ok",
     "timestamp": 1667758207745,
     "user": {
      "displayName": "Sora Anicca",
      "userId": "09773324512361123216"
     },
     "user_tz": -480
    },
    "id": "IkNgaw1sGws7",
    "outputId": "9c66a64e-e6ba-4037-f966-435c40ffedfe"
   },
   "outputs": [],
   "source": [
    "good_bad_dataset = my_dataset.QR_good_bad_dataset(\"./data\", image_size=128)\n",
    "my_dataloader = DataLoader(good_bad_dataset, batch_size=2, drop_last=False, pin_memory=False)\n",
    "net = my_model.Autoencoder()\n",
    "\n",
    "#\n",
    "net = my_train.train(net, my_dataloader, epoches=2000, lr=1e-4)\n",
    "\n"
   ]
  },
  {
   "cell_type": "code",
   "execution_count": null,
   "metadata": {
    "colab": {
     "base_uri": "https://localhost:8080/",
     "height": 273
    },
    "executionInfo": {
     "elapsed": 1620,
     "status": "ok",
     "timestamp": 1667758464713,
     "user": {
      "displayName": "Sora Anicca",
      "userId": "09773324512361123216"
     },
     "user_tz": -480
    },
    "id": "b3UDdvmQHIKN",
    "outputId": "a8061c12-430e-4c3e-fe0e-64e461eeb047"
   },
   "outputs": [],
   "source": [
    "# bad image\n",
    "test_batch = good_bad_dataset[0][1].reshape(1, 1, 128, 128)\n",
    "# show bad batch\n",
    "_test_batch_show = np.array(test_batch.reshape(128, 128))\n",
    "plt.imshow(_test_batch_show, cmap=plt.cm.gray)\n",
    "fig1 = plt.gcf()\n",
    "fig1.savefig(\"before.png\")\n",
    "\n",
    "output_batch = net(test_batch.cuda().float())\n",
    "# show output_batch batch\n",
    "_output_show = output_batch.reshape(128, 128).detach().cpu().numpy()\n",
    "plt.imshow(_output_show, cmap=plt.cm.gray)\n",
    "fig2 = plt.gcf()\n",
    "fig2.savefig(\"after.png\")\n",
    "\n",
    "plt.close()\n",
    "\n",
    "fig, (ax1, ax2) = plt.subplots(1, 2)\n",
    "fig.suptitle('Rebuild')\n",
    "#\n",
    "ax1.set_title('before')\n",
    "ax1.imshow(_test_batch_show, cmap=plt.cm.gray)\n",
    "#\n",
    "ax2.set_title('after')\n",
    "ax2.imshow(_output_show, cmap=plt.cm.gray)\n",
    "plt.tight_layout()\n",
    "plt.show()"
   ]
  },
  {
   "cell_type": "code",
   "execution_count": 2,
   "metadata": {
    "id": "dKFXRsoJIX3S"
   },
   "outputs": [],
   "source": []
  },
  {
   "cell_type": "code",
   "execution_count": 7,
   "metadata": {},
   "outputs": [],
   "source": []
  },
  {
   "cell_type": "code",
   "execution_count": 12,
   "metadata": {},
   "outputs": [
    {
     "data": {
      "text/plain": [
       "'1128_0732_59'"
      ]
     },
     "execution_count": 12,
     "metadata": {},
     "output_type": "execute_result"
    }
   ],
   "source": [
    "current_time()"
   ]
  },
  {
   "cell_type": "code",
   "execution_count": null,
   "metadata": {},
   "outputs": [],
   "source": []
  }
 ],
 "metadata": {
  "accelerator": "GPU",
  "colab": {
   "authorship_tag": "ABX9TyND7aRMqBgOraKhdLEZQvSo",
   "collapsed_sections": [],
   "provenance": []
  },
  "gpuClass": "standard",
  "kernelspec": {
   "display_name": "Python 3 (ipykernel)",
   "language": "python",
   "name": "python3"
  },
  "language_info": {
   "codemirror_mode": {
    "name": "ipython",
    "version": 3
   },
   "file_extension": ".py",
   "mimetype": "text/x-python",
   "name": "python",
   "nbconvert_exporter": "python",
   "pygments_lexer": "ipython3",
   "version": "3.8.0"
  }
 },
 "nbformat": 4,
 "nbformat_minor": 4
}
